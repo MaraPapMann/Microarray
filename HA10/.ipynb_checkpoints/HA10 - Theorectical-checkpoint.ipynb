{
 "cells": [
  {
   "cell_type": "markdown",
   "metadata": {},
   "source": [
    "# Huajie Chen\n",
    "# 4199962"
   ]
  },
  {
   "cell_type": "code",
   "execution_count": 1,
   "metadata": {
    "collapsed": true
   },
   "outputs": [],
   "source": [
    "import numpy as np\n",
    "import scipy.stats as stats\n",
    "import matplotlib as plt"
   ]
  },
  {
   "cell_type": "markdown",
   "metadata": {},
   "source": [
    "# a.1\n",
    "### Setting up Null-Hypothesis\n",
    "$$ H_0 = \\text{The mean of the sample and the given } \\mu_0 \\text{ are identical.} \\\\ $$\n",
    "$$H_1 = \\text{The mean of the sample and the given } \\mu_0 \\text{ are significantly different.} \\\\$$\n",
    "$$\\alpha = 0.05$$\n",
    "   \n",
    "### Since the variance of the original normal distribution is unknown, and it is now the mean of the sample and the given original mu_0 being compared, the two-side t-test between a specific expectation and a group of data should be performed.\n",
    "\n",
    "$$ \\bar{x} = \\frac{1}{k} \\sum_{k=1}^{k}x_k $$\n",
    "$$ x_{var} = \\frac{\\sum_{k=1}^{k}(x_k - \\bar{x})^2}{k}$$\n",
    "$$ t_{value} = \\frac{\\bar{x} - \\mu_0}{x_{var}}$$\n",
    "\n",
    "### Calculating the confidence interval\n",
    "\n",
    "$$ CI = (norm.ppf(\\alpha/2), \\ norm.ppf(1-\\alpha/2)) \\\\$$ \n",
    "$$ \\text{(norm.ppf is the percent point function in python)}$$\n",
    "\n",
    "### If the t-value is located in this interval, the Null-Hypotheis will not be rejected. If not, it should be rejected.###\n",
    "\n",
    "# a.2\n",
    "\n",
    "### This test may be applied to i.e. the expression data of normal liver cell and liver cancer cell. If the test of one specific gene in the normal cell differs from the other, we may tend to believe that there is research value underneath."
   ]
  },
  {
   "cell_type": "markdown",
   "metadata": {},
   "source": [
    "# b.1"
   ]
  },
  {
   "cell_type": "code",
   "execution_count": 7,
   "metadata": {},
   "outputs": [
    {
     "name": "stdout",
     "output_type": "stream",
     "text": [
      "The expression range containing values with 95% should be (1.028, 13.572)\n",
      "The expression range containing values with 99% should be (-0.943, 15.543)\n"
     ]
    }
   ],
   "source": [
    "# b.1\n",
    "mu = 7.3\n",
    "sigma = 3.2\n",
    "alpha1 = 0.05\n",
    "alpha2 = 0.01\n",
    "\n",
    "dist = stats.norm(mu, sigma)\n",
    "\n",
    "print('The expression range containing values with 95% should be \n",
    "      ({:.3f}, {:.3f})'.format(dist.ppf(alpha1/2), dist.ppf(1-alpha1/2)))\n",
    "print('The expression range containing values with 99% should be \n",
    "      ({:.3f}, {:.3f})'.format(dist.ppf(alpha2/2), dist.ppf(1-alpha2/2)))"
   ]
  },
  {
   "cell_type": "markdown",
   "metadata": {},
   "source": [
    "# b.2"
   ]
  },
  {
   "cell_type": "code",
   "execution_count": 8,
   "metadata": {},
   "outputs": [
    {
     "name": "stdout",
     "output_type": "stream",
     "text": [
      "The expression range for the first quartile should be (-infinity, 5.142)\n"
     ]
    }
   ],
   "source": [
    "# b.2\n",
    "print('The expression range for the first quartile should be \n",
    "      (-infinity, {:.3f})'.format(dist.ppf(0.25)))"
   ]
  },
  {
   "cell_type": "markdown",
   "metadata": {},
   "source": [
    "# b.3"
   ]
  },
  {
   "cell_type": "code",
   "execution_count": 11,
   "metadata": {},
   "outputs": [
    {
     "name": "stdout",
     "output_type": "stream",
     "text": [
      "The probability of a gene having an expression value above 10 should be 0.199\n"
     ]
    }
   ],
   "source": [
    "# b.3\n",
    "print('The probability of a gene having an expression value above 10 should be \n",
    "      {:.3f}'.format(1-dist.cdf(10)))"
   ]
  }
 ],
 "metadata": {
  "kernelspec": {
   "display_name": "Python 3",
   "language": "python",
   "name": "python3"
  },
  "language_info": {
   "codemirror_mode": {
    "name": "ipython",
    "version": 3
   },
   "file_extension": ".py",
   "mimetype": "text/x-python",
   "name": "python",
   "nbconvert_exporter": "python",
   "pygments_lexer": "ipython3",
   "version": "3.6.2"
  }
 },
 "nbformat": 4,
 "nbformat_minor": 2
}
